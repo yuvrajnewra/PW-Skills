{
  "nbformat": 4,
  "nbformat_minor": 0,
  "metadata": {
    "colab": {
      "provenance": []
    },
    "kernelspec": {
      "name": "python3",
      "display_name": "Python 3"
    },
    "language_info": {
      "name": "python"
    }
  },
  "cells": [
    {
      "cell_type": "code",
      "execution_count": null,
      "metadata": {
        "id": "jbk8y4VVebDm"
      },
      "outputs": [],
      "source": [
        "# OOPS assignment\n",
        "#Q1. What are the five key concepts of Object-Oriented Programming (OOP)?\n",
        " #Five Key Concepts of Object-Oriented Programming (OOP):\n",
        "\n",
        "   # 1.Encapsulation: Wrapping data and methods into a single unit (class) while restricting direct access to some components.\n",
        "    #2.Abstraction: Hiding implementation details and showing only essential features.\n",
        "    #3.Inheritance: Deriving new classes from existing ones to reuse, extend, or modify behavior.\n",
        "    #4.Polymorphism: Allowing objects to be treated as instances of their parent class, enabling a single interface for different data types.\n",
        "    #5.Composition: Creating complex types by combining objects of other classes.\n",
        "\n"
      ]
    },
    {
      "cell_type": "code",
      "source": [
        "#Q2. Write a Python class for a `Car` with attributes for `make`, `model`, and `year`. Include a method to display\n",
        "#the car's information.\n",
        "\n",
        "class Car:\n",
        "    def __init__(self, make, model, year):\n",
        "        self.make = make\n",
        "        self.model = model\n",
        "        self.year = year\n",
        "\n",
        "    def display_info(self):\n",
        "        return f\"{self.year} {self.make} {self.model}\"\n",
        "\n",
        "\n",
        "# Create an instance of Car\n",
        "car = Car(\"Toyota\", \"Corolla\", 2020)\n",
        "\n",
        "# Display the car's information\n",
        "print(car.display_info())\n",
        "\n"
      ],
      "metadata": {
        "colab": {
          "base_uri": "https://localhost:8080/"
        },
        "id": "liDzTGB-f8Um",
        "outputId": "9e6ba0c8-7766-40b5-c59d-55bd6f3db8d1"
      },
      "execution_count": null,
      "outputs": [
        {
          "output_type": "stream",
          "name": "stdout",
          "text": [
            "2020 Toyota Corolla\n"
          ]
        }
      ]
    },
    {
      "cell_type": "code",
      "source": [
        "#3. Explain the difference between instance methods and class methods. Provide an example of each.\n",
        "# Example Class to Demonstrate Instance and Class Methods\n",
        "\n",
        "class Example:\n",
        "    # Class variable (shared by all instances)\n",
        "    class_variable = \"Class Level\"\n",
        "\n",
        "    def __init__(self, value):\n",
        "        # Instance variable (unique to each instance)\n",
        "        self.instance_variable = value\n",
        "\n",
        "    # Instance Method (operates on the instance)\n",
        "    def instance_method(self):\n",
        "        return f\"Instance Method: {self.instance_variable}\"\n",
        "\n",
        "    # Class Method (operates on the class)\n",
        "    @classmethod\n",
        "    def class_method(cls):\n",
        "        return f\"Class Method: {cls.class_variable}\"\n",
        "\n",
        "\n",
        "# Create an instance of Example\n",
        "obj = Example(\"Instance Level\")\n",
        "\n",
        "# Call the instance method (requires an instance)\n",
        "print(\"Calling Instance Method:\")\n",
        "print(obj.instance_method())  # Accesses instance-specific data\n",
        "\n",
        "print(\"\\nCalling Class Method:\")\n",
        "# Call the class method (can be called on the class directly)\n",
        "print(Example.class_method())  # Accesses class-level data\n",
        "\n",
        "#Calling Instance Method:\n",
        "#Instance Method: Instance Level\n",
        "\n",
        "#Calling Class Method:\n",
        "#Class Method: Class Level\n"
      ],
      "metadata": {
        "colab": {
          "base_uri": "https://localhost:8080/"
        },
        "id": "kQCm5LIyQgb0",
        "outputId": "db6da45c-1781-4d8a-fe18-2486786bf8dc"
      },
      "execution_count": 25,
      "outputs": [
        {
          "output_type": "stream",
          "name": "stdout",
          "text": [
            "Calling Instance Method:\n",
            "Instance Method: Instance Level\n",
            "\n",
            "Calling Class Method:\n",
            "Class Method: Class Level\n"
          ]
        }
      ]
    },
    {
      "cell_type": "code",
      "source": [
        "#4. How does Python implement method overloading? Give an example.\n",
        "#Python doesn't support method overloading directly. Instead, default arguments or variable-length arguments are used to achieve similar behavior.\n",
        "class Calculator:\n",
        "    def add(self, a, b=0, c=0):\n",
        "        return a + b + c\n",
        "\n",
        "calc = Calculator()\n",
        "print(calc.add(5))         # 5\n",
        "print(calc.add(5, 10))     # 15\n",
        "print(calc.add(5, 10, 15)) # 30"
      ],
      "metadata": {
        "colab": {
          "base_uri": "https://localhost:8080/"
        },
        "id": "2-0TSIdyK-iN",
        "outputId": "bb5d181d-31b9-4da3-ad84-684ff11d5add"
      },
      "execution_count": 5,
      "outputs": [
        {
          "output_type": "stream",
          "name": "stdout",
          "text": [
            "5\n",
            "15\n",
            "30\n"
          ]
        }
      ]
    },
    {
      "cell_type": "code",
      "source": [
        "#5. What are the three types of access modifiers in Python? How are they denoted?\n",
        "#Access Modifiers in Python:\n",
        "\n",
        "    #Public: Accessible from anywhere (attribute).\n",
        "    #Protected: Accessible within the class and subclasses (_attribute).\n",
        "    #Private: Accessible only within the class (__attribute).\n",
        "    class Example:\n",
        "    def __init__(self):\n",
        "        self.public = \"Public\"\n",
        "        self._protected = \"Protected\"\n",
        "        self.__private = \"Private\""
      ],
      "metadata": {
        "collapsed": true,
        "id": "tseAvwHhLTuB"
      },
      "execution_count": null,
      "outputs": []
    },
    {
      "cell_type": "code",
      "source": [
        "#6. Describe the five types of inheritance in Python. Provide a simple example of multiple inheritance.\n",
        "#Types of Inheritance in Python:\n",
        "\n",
        "    #Single Inheritance\n",
        "    #Multiple Inheritance\n",
        "    #Multilevel Inheritance\n",
        "    #Hierarchical Inheritance\n",
        "    #Hybrid Inheritance\n",
        "class A:\n",
        "    def method_a(self):\n",
        "        return \"Method A\"\n",
        "\n",
        "class B:\n",
        "    def method_b(self):\n",
        "        return \"Method B\"\n",
        "\n",
        "# Class C inherits from both A and B\n",
        "class C(A, B):\n",
        "    pass\n",
        "\n",
        "# Create an object of class C\n",
        "c = C()\n",
        "\n",
        "# Call methods from both parent classes\n",
        "print(c.method_a())  # Inherited from class A\n",
        "print(c.method_b())  # Inherited from class B"
      ],
      "metadata": {
        "colab": {
          "base_uri": "https://localhost:8080/"
        },
        "id": "fWYPg4zbMdY7",
        "outputId": "5396bef7-b62a-4fa3-8ba8-97b1fca54ed3"
      },
      "execution_count": 12,
      "outputs": [
        {
          "output_type": "stream",
          "name": "stdout",
          "text": [
            "Method A\n",
            "Method B\n"
          ]
        }
      ]
    },
    {
      "cell_type": "code",
      "source": [
        "#7. What is the Method Resolution Order (MRO) in Python? How can you retrieve it programmatically?\n",
        "#Method Resolution Order (MRO):\n",
        "\n",
        "#The MRO defines the order in which Python looks for a method in a hierarchy of classes.\n",
        "#Retrieve it using ClassName.mro() or ClassName.__mro__.\n",
        "from abc import ABC, abstractmethod\n",
        "\n",
        "class Shape(ABC):\n",
        "    @abstractmethod\n",
        "    def area(self):\n",
        "        pass\n",
        "\n",
        "class Circle(Shape):\n",
        "    def __init__(self, radius):\n",
        "        self.radius = radius\n",
        "\n",
        "    def area(self):\n",
        "        return 3.14 * self.radius ** 2\n",
        "\n",
        "class Rectangle(Shape):\n",
        "    def __init__(self, width, height):\n",
        "        self.width = width\n",
        "        self.height = height\n",
        "\n",
        "    def area(self):\n",
        "        return self.width * self.heigh"
      ],
      "metadata": {
        "id": "8xtpGdqLNQPd"
      },
      "execution_count": 14,
      "outputs": []
    },
    {
      "cell_type": "code",
      "source": [
        "#8. Create an abstract base class `Shape` with an abstract method `area()`. Then create two subclasses\n",
        "#`Circle` and `Rectangle` that implement the `area()` method.\n",
        "from abc import ABC, abstractmethod\n",
        "\n",
        "class Shape(ABC):\n",
        "    @abstractmethod\n",
        "    def area(self):\n",
        "        pass\n",
        "\n",
        "class Circle(Shape):\n",
        "    def __init__(self, radius):\n",
        "        self.radius = radius\n",
        "\n",
        "    def area(self):\n",
        "        return 3.14 * self.radius ** 2\n",
        "\n",
        "class Rectangle(Shape):\n",
        "    def __init__(self, width, height):\n",
        "        self.width = width\n",
        "        self.height = height\n",
        "\n",
        "    def area(self):\n",
        "        return self.width * self.height"
      ],
      "metadata": {
        "id": "qiSU51aSNvYS"
      },
      "execution_count": 16,
      "outputs": []
    },
    {
      "cell_type": "code",
      "source": [
        "\n",
        "\n",
        "#9. Demonstrate polymorphism by creating a function that can work with different shape objects to calculate\n",
        "#and print their areas.\n",
        "def print_area(shape):\n",
        "    print(f\"Area: {shape.area()}\")\n",
        "\n",
        "circle = Circle(5)\n",
        "rectangle = Rectangle(4, 6)\n",
        "print_area(circle)\n",
        "print_area(rectangle)"
      ],
      "metadata": {
        "colab": {
          "base_uri": "https://localhost:8080/"
        },
        "id": "aPRrMgZiNXMV",
        "outputId": "e8905c34-9351-4ec5-a1b7-948497869394"
      },
      "execution_count": 17,
      "outputs": [
        {
          "output_type": "stream",
          "name": "stdout",
          "text": [
            "Area: 78.5\n",
            "Area: 24\n"
          ]
        }
      ]
    },
    {
      "cell_type": "code",
      "source": [
        "#10. Implement encapsulation in a `BankAccount` class with private attributes for `balance` and\n",
        "#`account_number`. Include methods for deposit, withdrawal, and balance inquiry.\n",
        "\n",
        "class BankAccount:\n",
        "    def __init__(self, account_number, balance=0):\n",
        "        self.__account_number = account_number\n",
        "        self.__balance = balance\n",
        "\n",
        "    def deposit(self, amount):\n",
        "        self.__balance += amount\n",
        "\n",
        "    def withdraw(self, amount):\n",
        "        if amount > self.__balance:\n",
        "            return \"Insufficient funds\"\n",
        "        self.__balance -= amount\n",
        "\n",
        "    def get_balance(self):\n",
        "        return self.__balance\n"
      ],
      "metadata": {
        "id": "vUSRZmpaOBt5"
      },
      "execution_count": 19,
      "outputs": []
    },
    {
      "cell_type": "code",
      "source": [
        "#11. Write a class that overrides the `__str__` and `__add__` magic methods. What will these methods allow\n",
        "#you to do?\n",
        "\n",
        "class Number:\n",
        "    def __init__(self, value):\n",
        "        self.value = value\n",
        "\n",
        "    def __str__(self):\n",
        "        return f\"Number: {self.value}\"\n",
        "\n",
        "    def __add__(self, other):\n",
        "        return Number(self.value + other.value)\n",
        "\n",
        "n1 = Number(5)\n",
        "n2 = Number(10)\n",
        "print(n1 + n2)  # Number: 15\n"
      ],
      "metadata": {
        "colab": {
          "base_uri": "https://localhost:8080/"
        },
        "id": "BnyDXbFXmY3J",
        "outputId": "57906769-c4e1-4548-c1e5-47e711e2bca4"
      },
      "execution_count": 4,
      "outputs": [
        {
          "output_type": "stream",
          "name": "stdout",
          "text": [
            "Number: 15\n"
          ]
        }
      ]
    },
    {
      "cell_type": "code",
      "source": [
        "#12. Create a decorator that measures and prints the execution time of a function.\n",
        "import time\n",
        "\n",
        "def timer(func):\n",
        "    def wrapper(*args, **kwargs):\n",
        "        start = time.time()\n",
        "        result = func(*args, **kwargs)\n",
        "        end = time.time()\n",
        "        print(f\"Execution time: {end - start:.4f}s\")\n",
        "        return result\n",
        "    return wrapper\n",
        "\n",
        "@timer\n",
        "def example_function():\n",
        "    time.sleep(1)\n",
        "\n",
        "example_function()\n"
      ],
      "metadata": {
        "colab": {
          "base_uri": "https://localhost:8080/"
        },
        "id": "RgZG_kN6mtk4",
        "outputId": "37ddf6a8-4c21-4e07-d8a2-d936754f5068"
      },
      "execution_count": null,
      "outputs": [
        {
          "output_type": "stream",
          "name": "stdout",
          "text": [
            "Execution time: 1.0006s\n"
          ]
        }
      ]
    },
    {
      "cell_type": "code",
      "source": [
        "#13. Explain the concept of the Diamond Problem in multiple inheritance. How does Python resolve it?\n",
        "#Occurs in multiple inheritance when a class inherits from two classes with a common base class. Python resolves it using the C3 Linearization Algorithm.\n",
        "#The Diamond Problem occurs when a class inherits from two classes that both inherit from a common base class. This can create ambiguity about which method or attribute to inherit from the common ancestor\n",
        "     A\n",
        "    / \\\n",
        "   B   C\n",
        "    \\ /\n",
        "     D\n",
        "#Class D inherits from both B and C.\n",
        "#Both B and C inherit from A.\n",
        "#When D calls a method that exists in A, it's unclear whether to inherit from B -> A or C -> A.\n",
        "#Diamond Problem in Multiple Inheritance:\n",
        "\n",
        "#The Diamond Problem occurs when a class inherits from two classes that both inherit from a common base class. This can create ambiguity about which method or attribute to inherit from the common ancestor.\n",
        "#Diagram Example:\n",
        "\n",
        "     A\n",
        "    / \\\n",
        "   B   C\n",
        "    \\ /\n",
        "     D\n",
        "\n",
        " #   Class D inherits from both B and C.\n",
        "  #  Both B and C inherit from A.\n",
        "   # When D calls a method that exists in A, it's unclear whether to inherit from B -> A or C -> A.\n",
        "\n",
        "#Python's Solution: C3 Linearization (MRO - Method Resolution Order):\n",
        "\n",
        "#Python resolves the Diamond Problem using the C3 Linearization Algorithm, which determines the Method Resolution Order (MRO).\n",
        "\n",
        " #   C3 Linearization ensures a consistent, predictable order by:\n",
        "  #      Prioritizing the order of parent classes (left-to-right).\n",
        "   #     Ensuring a class appears only once in the inheritance hierarchy.\n",
        "    #    Preserving depth-first search but avoiding redundant paths\n",
        "\n"
      ],
      "metadata": {
        "id": "nrvaJ-m3Ol54"
      },
      "execution_count": null,
      "outputs": []
    },
    {
      "cell_type": "code",
      "source": [
        " #Example of Diamond Problem:\n",
        "class A:\n",
        "    def show(self):\n",
        "        return \"A\"\n",
        "\n",
        "class B(A):\n",
        "    def show(self):\n",
        "        return \"B\"\n",
        "\n",
        "class C(A):\n",
        "    def show(self):\n",
        "        return \"C\"\n",
        "\n",
        "# D inherits from both B and C\n",
        "class D(B, C):\n",
        "    pass\n",
        "\n",
        "# Create an instance of D\n",
        "d = D()\n",
        "\n",
        "# Call the show method\n",
        "print(d.show())  # Output: \"B\"\n",
        "\n",
        "# Print Method Resolution Order (MRO)\n",
        "print(D.mro())\n"
      ],
      "metadata": {
        "colab": {
          "base_uri": "https://localhost:8080/"
        },
        "id": "-KYMj8rKP_4w",
        "outputId": "147cef00-8a4f-49db-e261-3aaea5a41281"
      },
      "execution_count": 24,
      "outputs": [
        {
          "output_type": "stream",
          "name": "stdout",
          "text": [
            "B\n",
            "[<class '__main__.D'>, <class '__main__.B'>, <class '__main__.C'>, <class '__main__.A'>, <class 'object'>]\n"
          ]
        }
      ]
    },
    {
      "cell_type": "code",
      "source": [
        "\n",
        "#14. Write a class method that keeps track of the number of instances created from a class.\n",
        "class Counter:\n",
        "    instance_count = 0\n",
        "\n",
        "    def __init__(self):\n",
        "        Counter.instance_count += 1\n",
        "\n",
        "    @classmethod\n",
        "    def get_instance_count(cls):\n",
        "        return cls.instance_count\n",
        "\n",
        "# Example\n",
        "a = Counter()\n",
        "b = Counter()\n",
        "print(Counter.get_instance_count())\n"
      ],
      "metadata": {
        "colab": {
          "base_uri": "https://localhost:8080/"
        },
        "id": "ZLJpzOiqm7Lm",
        "outputId": "142dbb57-bb1c-4fff-9f58-5f4067172a80"
      },
      "execution_count": null,
      "outputs": [
        {
          "output_type": "stream",
          "name": "stdout",
          "text": [
            "2\n"
          ]
        }
      ]
    },
    {
      "cell_type": "code",
      "source": [],
      "metadata": {
        "id": "fRgsdbjtOdFg"
      },
      "execution_count": null,
      "outputs": []
    },
    {
      "cell_type": "code",
      "source": [
        "\n",
        "#15. Implement a static method in a class that checks if a given year is a leap year.\n",
        "class YearUtils:\n",
        "    @staticmethod\n",
        "    def is_leap_year(year):\n",
        "        \"\"\"\n",
        "        Determines if a given year is a leap year.\n",
        "\n",
        "        A year is a leap year if:\n",
        "        - It is divisible by 4, and\n",
        "        - It is not divisible by 100, unless it is also divisible by 400.\n",
        "        \"\"\"\n",
        "        if (year % 4 == 0 and year % 100 != 0) or (year % 400 == 0):\n",
        "            return True\n",
        "        return False\n",
        "\n",
        "\n",
        "# Example usage\n",
        "print(YearUtils.is_leap_year(2020))  # Outputs: True (2020 is a leap year)\n",
        "print(YearUtils.is_leap_year(1900))  # Outputs: False (1900 is not a leap year)\n",
        "print(YearUtils.is_leap_year(2000))  # Outputs: True (2000 is a leap year)\n"
      ],
      "metadata": {
        "colab": {
          "base_uri": "https://localhost:8080/"
        },
        "id": "aKWt5k20nb8I",
        "outputId": "8f754dc3-6cbb-4b76-cc90-f869a2dae2dd"
      },
      "execution_count": null,
      "outputs": [
        {
          "output_type": "stream",
          "name": "stdout",
          "text": [
            "True\n",
            "False\n",
            "True\n"
          ]
        }
      ]
    },
    {
      "cell_type": "code",
      "source": [],
      "metadata": {
        "id": "KYFjcYZ8ntgF"
      },
      "execution_count": null,
      "outputs": []
    }
  ]
}