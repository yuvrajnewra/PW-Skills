# 1. Reverse a string
def reverse_string(s):
    return s[::-1]
# Example usage
string = "Hello, World!"
reversed_string = reverse_string(string)
print("Reversed String:", reversed_string)

# 2. Count the number of vowels in a string
def count_vowels(s):
    vowels = "aeiouAEIOU"
    count = sum(1 for char in s if char in vowels)
    return count
# Example usage
string = "Hello, World!"
vowel_count = count_vowels(string)
print("Number of Vowels:", vowel_count)

# 3. Check if a given string is a palindrome
def is_palindrome(s):
    cleaned_string = ''.join(char.lower() for char in s if char.isalnum())
    return cleaned_string == cleaned_string[::-1]
# Example usage
string = "A man, a plan, a canal: Panama"
if is_palindrome(string):
    print(f'"{string}" is a palindrome.')
else:
    print(f'"{string}" is not a palindrome.')

# 4. Check if two strings are anagrams
def are_anagrams(s1, s2):
    s1 = ''.join(s1.lower().split())
    s2 = ''.join(s2.lower().split())
    return sorted(s1) == sorted(s2)
# Example usage
string1 = "Listen"
string2 = "Silent"
if are_anagrams(string1, string2):
    print(f'"{string1}" and "{string2}" are anagrams.')
else:
    print(f'"{string1}" and "{string2}" are not anagrams.')

# 5. Find all occurrences of a substring
def find_all_occurrences(text, substring):
    indices = []
    index = text.find(substring)
    while index != -1:
        indices.append(index)
        index = text.find(substring, index + 1)
    return indices
# Example usage
text = "This is a test string. Testing is fun!"
substring = "is"
occurrences = find_all_occurrences(text, substring)
print(f"Occurrences of '{substring}': {occurrences}")

# 6. Compress a string using counts of repeated characters
def compress_string(s):
    compressed = []
    count = 1
    for i in range(1, len(s)):
        if s[i] == s[i - 1]:
            count += 1
        else:
            compressed.append(s[i - 1] + str(count))
            count = 1
    compressed.append(s[-1] + str(count))
    result = ''.join(compressed)
    return result if len(result) < len(s) else s
# Example usage
string = "aaabcccccaaa"
compressed_string = compress_string(string)
print("Compressed String:", compressed_string)

# 7. Check if a string has all unique characters
def has_all_unique_characters(s):
    return len(set(s)) == len(s)
# Example usage
string = "abcdef"
if has_all_unique_characters(string):
    print(f'"{string}" has all unique characters.')
else:
    print(f'"{string}" does not have all unique characters.')

# 8. Convert a string to uppercase or lowercase
def convert_case(s, to_upper=True):
    return s.upper() if to_upper else s.lower()
# Example usage
string = "Hello, World!"
print("Uppercase:", convert_case(string, to_upper=True))
print("Lowercase:", convert_case(string, to_upper=False))

# 9. Count the number of words in a string
def count_words(s):
    return len(s.split())
# Example usage
string = "This is a sample string with seven words."
word_count = count_words(string)
print("Number of Words:", word_count)

# 10. Concatenate two strings without using the + operator
def concatenate_strings(s1, s2):
    return f"{s1}{s2}"
# Example usage
string1 = "Hello"
string2 = "World"
result = concatenate_strings(string1, string2)
print("Concatenated String:", result)

# 11. Remove all occurrences of a specific element from a list
def remove_element(lst, element):
    return [x for x in lst if x != element]
# Example usage
lst = [1, 2, 3, 2, 4, 2, 5]
element = 2
result = remove_element(lst, element)
print("Updated List:", result)

# 12. Find the second largest number in a list
def find_second_largest(lst):
    unique_numbers = list(set(lst))
    if len(unique_numbers) < 2:
        return None
    unique_numbers.sort(reverse=True)
    return unique_numbers[1]
# Example usage
lst = [10, 20, 4, 20, 10, 5]
second_largest = find_second_largest(lst)
print("Second Largest Number:", second_largest)

# 13. Count occurrences of each element in a list
def count_occurrences(lst):
    return {x: lst.count(x) for x in set(lst)}
# Example usage
lst = [1, 2, 2, 3, 3, 3, 4]
occurrences = count_occurrences(lst)
print("Occurrences:", occurrences)

# 14. Reverse a list in-place without built-in reverse functions
def reverse_list_in_place(lst):
    n = len(lst)
    for i in range(n // 2):
        lst[i], lst[n - i - 1] = lst[n - i - 1], lst[i]
# Example usage
lst = [1, 2, 3, 4, 5]
reverse_list_in_place(lst)
print("Reversed List:", lst)

# 15. Remove duplicates from a list while preserving order
def remove_duplicates(lst):
    seen = set()
    result = []
    for x in lst:
        if x not in seen:
            result.append(x)
            seen.add(x)
    return result
# Example usage
lst = [1, 2, 2, 3, 4, 4, 5]
unique_list = remove_duplicates(lst)
print("List Without Duplicates:", unique_list)

# 16. Merge two sorted lists into one sorted list
def merge_sorted_lists(lst1, lst2):
    i = j = 0
    merged_list = []
    while i < len(lst1) and j < len(lst2):
        if lst1[i] < lst2[j]:
            merged_list.append(lst1[i])
            i += 1
        else:
            merged_list.append(lst2[j])
            j += 1
    merged_list.extend(lst1[i:])
    merged_list.extend(lst2[j:])
    return merged_list
# Example usage
lst1 = [1, 3, 5]
lst2 = [2, 4, 6]
merged_list = merge_sorted_lists(lst1, lst2)
print("Merged Sorted List:", merged_list)

# 17. Rotate a list by k positions
def rotate_list(lst, k):
    k %= len(lst)
    return lst[-k:] + lst[:-k]
# Example usage
lst = [1, 2, 3, 4, 5]
k = 2
rotated_list = rotate_list(lst, k)
print("Rotated List:", rotated_list)

# 18. Find the intersection of two lists
def find_intersection(lst1, lst2):
    return list(set(lst1) & set(lst2))
# Example usage
lst1 = [1, 2, 3, 4]
lst2 = [3, 4, 5, 6]
intersection = find_intersection(lst1, lst2)
print("Intersection:", intersection)

# 19. Find the union of two lists
def find_union(lst1, lst2):
    return list(set(lst1) | set(lst2))
# Example usage
lst1 = [1, 2, 3]
lst2 = [3, 4, 5]
union = find_union(lst1, lst2)
print("Union:", union)

# 20. Flatten a nested list
def flatten_nested_list(nested_list):
    result = []
    for element in nested_list:
        if isinstance(element, list):
            result.extend(flatten_nested_list(element))
        else:
            result.append(element)
    return result
# Example usage
nested_list = [1, [2, [3, 4]], 5]
flattened_list = flatten_nested_list(nested_list)
print("Flattened List:", flattened_list)

# 21. Find the mode(s) of a list
from collections import Counter
def find_mode(lst):
    count = Counter(lst)
    max_count = max(count.values())
    return [key for key, value in count.items() if value == max_count]
# Example usage
lst = [1, 2, 2, 3, 3, 3, 4, 4]
modes = find_mode(lst)
print("Mode(s):", modes)

# 22. Check if a list is sorted
def is_sorted(lst):
    return all(lst[i] <= lst[i + 1] for i in range(len(lst) - 1))
# Example usage
lst = [1, 2, 3, 4, 5]
print("Is Sorted:", is_sorted(lst))

# 23. Find the longest word in a list of strings
def find_longest_word(words):
    return max(words, key=len, default="")
# Example usage
words = ["apple", "banana", "cherry", "date"]
longest_word = find_longest_word(words)
print("Longest Word:", longest_word)

# 24. Sort a list of strings by their lengths
def sort_by_length(words):
    return sorted(words, key=len)
# Example usage
words = ["apple", "banana", "cherry", "date"]
sorted_words = sort_by_length(words)
print("Sorted by Length:", sorted_words)

# 25. Generate all permutations of a list
from itertools import permutations
def generate_permutations(lst):
    return list(permutations(lst))
# Example usage
lst = [1, 2, 3]
perms = generate_permutations(lst)
print("Permutations:", perms)

# 26. Check if all elements in a list are unique
def are_elements_unique(lst):
    return len(lst) == len(set(lst))
# Example usage
lst = [1, 2, 3, 4]
print("All Elements Unique:", are_elements_unique(lst))

# 27. Find all subsets of a list
def find_subsets(lst):
    subsets = [[]]
    for element in lst:
        subsets += [current + [element] for current in subsets]
    return subsets
# Example usage
lst = [1, 2, 3]
subsets = find_subsets(lst)
print("Subsets:", subsets)

# 28. Find the difference between two lists
def find_difference(lst1, lst2):
    return list(set(lst1) - set(lst2))
# Example usage
lst1 = [1, 2, 3, 4]
lst2 = [3, 4, 5, 6]
difference = find_difference(lst1, lst2)
print("Difference:", difference)

# 29. Convert a list of strings to integers
def convert_to_integers(lst):
    return [int(x) for x in lst]
# Example usage
lst = ["1", "2", "3"]
converted = convert_to_integers(lst)
print("Converted List:", converted)

# 30. Find the product of all elements in a list
def product_of_elements(lst):
    product = 1
    for num in lst:
        product *= num
    return product
# Example usage
lst = [1, 2, 3, 4]
product = product_of_elements(lst)
print("Product of Elements:", product)

# 31. Find the maximum sum of a subarray
def max_subarray_sum(lst):
    max_sum = current_sum = lst[0]
    for num in lst[1:]:
        current_sum = max(num, current_sum + num)
        max_sum = max(max_sum, current_sum)
    return max_sum
# Example usage
lst = [-2, 1, -3, 4, -1, 2, 1, -5, 4]
max_sum = max_subarray_sum(lst)
print("Maximum Subarray Sum:", max_sum)

# 32. Find the kth smallest element in a list
def kth_smallest(lst, k):
    return sorted(lst)[k - 1]
# Example usage
lst = [7, 10, 4, 3, 20, 15]
k = 3
kth_element = kth_smallest(lst, k)
print(f"{k}th Smallest Element:", kth_element)

# 33. Check if two lists are equal
def are_lists_equal(lst1, lst2):
    return sorted(lst1) == sorted(lst2)
# Example usage
lst1 = [1, 2, 3]
lst2 = [3, 2, 1]
print("Lists Are Equal:", are_lists_equal(lst1, lst2))

# 34. Find the cumulative sum of a list
def cumulative_sum(lst):
    result = []
    total = 0
    for num in lst:
        total += num
        result.append(total)
    return result
# Example usage
lst = [1, 2, 3, 4]
cumsum = cumulative_sum(lst)
print("Cumulative Sum:", cumsum)

# 35. Find the average of all elements in a list
def find_average(lst):
    return sum(lst) / len(lst) if lst else 0
# Example usage
lst = [1, 2, 3, 4, 5]
average = find_average(lst)
print("Average:", average)
