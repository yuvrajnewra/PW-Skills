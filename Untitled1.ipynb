{
  "metadata": {
    "kernelspec": {
      "name": "python",
      "display_name": "Python (Pyodide)",
      "language": "python"
    },
    "language_info": {
      "codemirror_mode": {
        "name": "python",
        "version": 3
      },
      "file_extension": ".py",
      "mimetype": "text/x-python",
      "name": "python",
      "nbconvert_exporter": "python",
      "pygments_lexer": "ipython3",
      "version": "3.8"
    }
  },
  "nbformat_minor": 4,
  "nbformat": 4,
  "cells": [
    {
      "cell_type": "raw",
      "source": "#1 Write a Python function that takes a list of numbers as input and returns the sum of all even numbers in\nthe list.",
      "metadata": {}
    },
    {
      "cell_type": "code",
      "source": "def sum_of_evens(numbers):\n    \"\"\"\n    Returns the sum of all even numbers in the given list.\n    \n    Parameters:\n        numbers (list): A list of integers.\n    \n    Returns:\n        int: Sum of even numbers.\n    \"\"\"\n    return sum(num for num in numbers if num % 2 == 0)\n\n# Example usage\nnumbers = [47, 11, 42, 13, 24, 8]\nresult = sum_of_evens(numbers)\nprint(f\"The sum of even numbers is: {result}\")\n",
      "metadata": {
        "trusted": true
      },
      "outputs": [
        {
          "name": "stdout",
          "text": "The sum of even numbers is: 74\n",
          "output_type": "stream"
        }
      ],
      "execution_count": 6
    },
    {
      "cell_type": "code",
      "source": "#2. Create a Python function that accepts a string and returns the reverse of that string.",
      "metadata": {
        "trusted": true
      },
      "outputs": [],
      "execution_count": null
    },
    {
      "cell_type": "code",
      "source": "def reverse_string(s):\n    \"\"\"\n    Returns the reverse of the given string.\n    \n    Parameters:\n        s (str): The input string.\n    \n    Returns:\n        str: The reversed string.\n    \"\"\"\n    return s[::-1]\n\n# Example usage\ninput_string = \"hello world\"\nreversed_string = reverse_string(input_string)\nprint(f\"The reversed string is: '{reversed_string}'\")\n",
      "metadata": {
        "trusted": true
      },
      "outputs": [
        {
          "name": "stdout",
          "text": "The reversed string is: 'dlrow olleh'\n",
          "output_type": "stream"
        }
      ],
      "execution_count": 7
    },
    {
      "cell_type": "code",
      "source": "# 3.Implement a Python function that takes a list of integers and returns a new list containing the squares of\neach number.",
      "metadata": {
        "trusted": true
      },
      "outputs": [],
      "execution_count": null
    },
    {
      "cell_type": "code",
      "source": "def square_numbers(numbers):\n    \"\"\"\n    Returns a new list containing the squares of each number in the input list.\n    \n    Parameters:\n        numbers (list): A list of integers.\n    \n    Returns:\n        list: A list of squared integers.\n    \"\"\"\n    return [num ** 2 for num in numbers]\n\n# Example usage\nnumbers = [1, 2, 3, 4, 5]\nsquared_numbers = square_numbers(numbers)\nprint(f\"The squared numbers are: {squared_numbers}\")\n",
      "metadata": {
        "trusted": true
      },
      "outputs": [
        {
          "name": "stdout",
          "text": "The squared numbers are: [1, 4, 9, 16, 25]\n",
          "output_type": "stream"
        }
      ],
      "execution_count": 8
    },
    {
      "cell_type": "code",
      "source": "# 4. Write a Python function that checks if a given number is prime or not from 1 to 200.",
      "metadata": {
        "trusted": true
      },
      "outputs": [],
      "execution_count": null
    },
    {
      "cell_type": "code",
      "source": "def is_prime(n):\n    \"\"\"\n    Checks if a number is prime.\n    \n    Parameters:\n        n (int): The number to check.\n    \n    Returns:\n        bool: True if the number is prime, False otherwise.\n    \"\"\"\n    if n <= 1:\n        return False  # Numbers less than 2 are not prime\n    for i in range(2, int(n ** 0.5) + 1):  # Check divisors up to the square root of n\n        if n % i == 0:\n            return False\n    return True\n\n# Example usage: Find primes from 1 to 200\nprime_numbers = [num for num in range(1, 201) if is_prime(num)]\nprint(f\"Prime numbers from 1 to 200 are: {prime_numbers}\")\n",
      "metadata": {
        "trusted": true
      },
      "outputs": [
        {
          "name": "stdout",
          "text": "Prime numbers from 1 to 200 are: [2, 3, 5, 7, 11, 13, 17, 19, 23, 29, 31, 37, 41, 43, 47, 53, 59, 61, 67, 71, 73, 79, 83, 89, 97, 101, 103, 107, 109, 113, 127, 131, 137, 139, 149, 151, 157, 163, 167, 173, 179, 181, 191, 193, 197, 199]\n",
          "output_type": "stream"
        }
      ],
      "execution_count": 9
    },
    {
      "cell_type": "code",
      "source": "#.4. Create an iterator class in Python that generates the Fibonacci sequence up to a specified number of\nterms.",
      "metadata": {
        "trusted": true
      },
      "outputs": [],
      "execution_count": null
    },
    {
      "cell_type": "code",
      "source": "class FibonacciIterator:\n    \"\"\"\n    An iterator class for generating the Fibonacci sequence up to a specified number of terms.\n    \"\"\"\n    def __init__(self, n_terms):\n        \"\"\"\n        Initializes the iterator with the specified number of terms.\n        \n        Parameters:\n            n_terms (int): Number of terms in the Fibonacci sequence to generate.\n        \"\"\"\n        self.n_terms = n_terms\n        self.current_term = 0\n        self.a = 0\n        self.b = 1\n\n    def __iter__(self):\n        return self\n\n    def __next__(self):\n        if self.current_term >= self.n_terms:\n            raise StopIteration\n        if self.current_term == 0:\n            self.current_term += 1\n            return self.a\n        elif self.current_term == 1:\n            self.current_term += 1\n            return self.b\n        else:\n            fib = self.a + self.b\n            self.a, self.b = self.b, fib\n            self.current_term += 1\n            return fib\n\n# Example usage\nn = 10\nfibonacci_sequence = FibonacciIterator(n)\nprint(f\"The first {n} terms of the Fibonacci sequence are:\")\nfor num in fibonacci_sequence:\n    print(num, end=\" \")\n",
      "metadata": {
        "trusted": true
      },
      "outputs": [
        {
          "name": "stdout",
          "text": "The first 10 terms of the Fibonacci sequence are:\n0 1 1 2 3 5 8 13 21 34 ",
          "output_type": "stream"
        }
      ],
      "execution_count": 10
    },
    {
      "cell_type": "code",
      "source": "# 6. Write a generator function in Python that yields the powers of 2 up to a given exponent.",
      "metadata": {
        "trusted": true
      },
      "outputs": [],
      "execution_count": null
    },
    {
      "cell_type": "code",
      "source": "def powers_of_two(max_exponent):\n    \"\"\"\n    A generator function that yields the powers of 2 up to a given exponent.\n    \n    Parameters:\n        max_exponent (int): The maximum exponent for powers of 2.\n    \n    Yields:\n        int: Powers of 2 from 2^0 to 2^max_exponent.\n    \"\"\"\n    for exponent in range(max_exponent + 1):\n        yield 2 ** exponent\n\n# Example usage\nmax_exponent = 10\nprint(f\"Powers of 2 up to 2^{max_exponent}:\")\nfor power in powers_of_two(max_exponent):\n    print(power, end=\" \")\n",
      "metadata": {
        "trusted": true
      },
      "outputs": [
        {
          "name": "stdout",
          "text": "Powers of 2 up to 2^10:\n1 2 4 8 16 32 64 128 256 512 1024 ",
          "output_type": "stream"
        }
      ],
      "execution_count": 11
    },
    {
      "cell_type": "code",
      "source": "#7. Implement a generator function that reads a file line by line and yields each line as a string.",
      "metadata": {
        "trusted": true
      },
      "outputs": [],
      "execution_count": null
    },
    {
      "cell_type": "code",
      "source": "def read_file_by_line(file_path):\n    \"\"\"\n    A generator function that reads a file line by line and yields each line as a string.\n    \n    Parameters:\n        file_path (str): The path to the file to be read.\n    \n    Yields:\n        str: Each line of the file as a string.\n    \"\"\"\n    with open(file_path, 'r') as file:\n        for line in file:\n            yield line.strip()\n\n# Example usage\n# Create an example file for testing\nwith open('example.txt', 'w') as f:\n    f.write(\"Hello, world!\\n\")\n    f.write(\"This is an example file.\\n\")\n    f.write(\"Each line will be read and printed.\\n\")\n\n# Use the generator to read the file line by line\nfile_path = 'example.txt'\nprint(\"Reading file line by line:\")\nfor line in read_file_by_line(file_path):\n    print(line)\n",
      "metadata": {
        "trusted": true
      },
      "outputs": [
        {
          "name": "stdout",
          "text": "Reading file line by line:\nHello, world!\nThis is an example file.\nEach line will be read and printed.\n",
          "output_type": "stream"
        }
      ],
      "execution_count": 13
    },
    {
      "cell_type": "code",
      "source": "#8. Use a lambda function in Python to sort a list of tuples based on the second element of each tuple.",
      "metadata": {
        "trusted": true
      },
      "outputs": [],
      "execution_count": null
    },
    {
      "cell_type": "code",
      "source": "# List of tuples\ntuples_list = [(1, 3), (4, 1), (2, 2), (5, 5), (3, 4)]\n\n# Sort the list of tuples based on the second element of each tuple\nsorted_list = sorted(tuples_list, key=lambda x: x[1])\n\n# Print the sorted list\nprint(\"Sorted list based on the second element of each tuple:\")\nprint(sorted_list)\n",
      "metadata": {
        "trusted": true
      },
      "outputs": [
        {
          "name": "stdout",
          "text": "Sorted list based on the second element of each tuple:\n[(4, 1), (2, 2), (1, 3), (3, 4), (5, 5)]\n",
          "output_type": "stream"
        }
      ],
      "execution_count": 14
    },
    {
      "cell_type": "code",
      "source": "#9. Write a Python program that uses `map()` to convert a list of temperatures from Celsius to Fahrenheit.",
      "metadata": {
        "trusted": true
      },
      "outputs": [],
      "execution_count": null
    },
    {
      "cell_type": "code",
      "source": "# Function to convert Celsius to Fahrenheit\ndef celsius_to_fahrenheit(celsius):\n    return (celsius * 9/5) + 32\n\n# List of temperatures in Celsius\ncelsius_temperatures = [0, 20, 25, 30, 35, 40]\n\n# Use map to convert each temperature to Fahrenheit\nfahrenheit_temperatures = list(map(celsius_to_fahrenheit, celsius_temperatures))\n\n# Print the result\nprint(\"Temperatures in Fahrenheit:\")\nprint(fahrenheit_temperatures)\n",
      "metadata": {
        "trusted": true
      },
      "outputs": [
        {
          "name": "stdout",
          "text": "Temperatures in Fahrenheit:\n[32.0, 68.0, 77.0, 86.0, 95.0, 104.0]\n",
          "output_type": "stream"
        }
      ],
      "execution_count": 15
    },
    {
      "cell_type": "code",
      "source": "#10. Create a Python program that uses `filter()` to remove all the vowels from a given string.",
      "metadata": {
        "trusted": true
      },
      "outputs": [],
      "execution_count": null
    },
    {
      "cell_type": "code",
      "source": "# Function to check if a character is not a vowel\ndef is_not_vowel(char):\n    return char.lower() not in 'aeiou'\n\n# Given string\ninput_string = \"Hello, World!\"\n\n# Use filter to remove vowels\nfiltered_string = ''.join(filter(is_not_vowel, input_string))\n\n# Print the result\nprint(\"String after removing vowels:\")\nprint(filtered_string)\n",
      "metadata": {
        "trusted": true
      },
      "outputs": [
        {
          "name": "stdout",
          "text": "String after removing vowels:\nHll, Wrld!\n",
          "output_type": "stream"
        }
      ],
      "execution_count": 16
    },
    {
      "cell_type": "code",
      "source": "#11) Imagine an accounting routine used in a book shop. It works on a list with sublists, which look like this:\n\n\n\n\n\n\n\nWrite a Python program, which returns a list with 2-tuples. Each tuple consists of the order number and the\nproduct of the price per item and the quantity. The product should be increased by 10,- € if the value of the\norder is smaller than 100,00 €.\n\nWrite a Python program using lambda and map.",
      "metadata": {
        "trusted": true
      },
      "outputs": [],
      "execution_count": null
    },
    {
      "cell_type": "code",
      "source": "#11 solution: Sample data: Order number, book title and author, quantity, and price per item\norders = [\n    [34587, 'Learning Python, Mark Lutz', 4, 40.95],\n    [98762, 'Programming Python, Mark Lutz', 5, 56.80],\n    [77226, 'Head First Python, Paul Barry', 3, 32.95],\n    [88112, 'Einführung in Python3, Bernd Klein', 3, 24.99]\n]\n\n# Using map with lambda to calculate the total and add a surcharge if needed\norder_totals = list(map(lambda order: (order[0], (order[3] * order[2] + 10) if (order[3] * order[2]) < 100 else order[3] * order[2]), orders))\n\n# Print the result\nprint(order_totals)\n",
      "metadata": {
        "trusted": true
      },
      "outputs": [
        {
          "name": "stdout",
          "text": "[(34587, 163.8), (98762, 284.0), (77226, 108.85000000000001), (88112, 84.97)]\n",
          "output_type": "stream"
        }
      ],
      "execution_count": 18
    },
    {
      "cell_type": "code",
      "source": "",
      "metadata": {
        "trusted": true
      },
      "outputs": [],
      "execution_count": null
    }
  ]
}